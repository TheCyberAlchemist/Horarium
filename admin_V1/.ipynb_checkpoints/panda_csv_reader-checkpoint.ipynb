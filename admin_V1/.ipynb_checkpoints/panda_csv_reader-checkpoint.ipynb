{
 "cells": [
  {
   "cell_type": "code",
   "execution_count": null,
   "id": "f5d63341",
   "metadata": {},
   "outputs": [],
   "source": [
    "import pandas as pd"
   ]
  },
  {
   "cell_type": "markdown",
   "id": "4a10b30a",
   "metadata": {},
   "source": [
    "import pandas"
   ]
  },
  {
   "cell_type": "code",
   "execution_count": null,
   "id": "ec05f82e",
   "metadata": {},
   "outputs": [],
   "source": [
    "a = pd.read_csv(\"filename.csv\")"
   ]
  },
  {
   "cell_type": "code",
   "execution_count": null,
   "id": "0f50067d",
   "metadata": {},
   "outputs": [],
   "source": [
    "a.isnull().any()"
   ]
  },
  {
   "cell_type": "markdown",
   "id": "18ed01c8",
   "metadata": {},
   "source": [
    "for checking if any of the rows have empty cols"
   ]
  },
  {
   "cell_type": "code",
   "execution_count": null,
   "id": "1ccd17d4",
   "metadata": {},
   "outputs": [],
   "source": [
    "{'Email','Password', 'first_name', 'last_name'} == set(a.head(0))"
   ]
  },
  {
   "cell_type": "markdown",
   "id": "b973e415",
   "metadata": {},
   "source": [
    "check all the headders of the csv"
   ]
  }
 ],
 "metadata": {
  "kernelspec": {
   "display_name": "Python 3",
   "language": "python",
   "name": "python3"
  },
  "language_info": {
   "codemirror_mode": {
    "name": "ipython",
    "version": 3
   },
   "file_extension": ".py",
   "mimetype": "text/x-python",
   "name": "python",
   "nbconvert_exporter": "python",
   "pygments_lexer": "ipython3",
   "version": "3.8.5"
  }
 },
 "nbformat": 4,
 "nbformat_minor": 5
}
