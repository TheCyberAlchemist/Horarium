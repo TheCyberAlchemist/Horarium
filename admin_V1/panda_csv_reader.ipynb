{
 "cells": [
  {
   "cell_type": "code",
   "execution_count": null,
   "id": "0529446e",
   "metadata": {},
   "outputs": [],
   "source": [
    "import pandas as pd\n",
    "import numpy as np"
   ]
  },
  {
   "cell_type": "markdown",
   "id": "28053530",
   "metadata": {},
   "source": [
    "import pandas"
   ]
  },
  {
   "cell_type": "code",
   "execution_count": null,
   "id": "2c566be2",
   "metadata": {},
   "outputs": [],
   "source": [
    "a = pd.read_csv(\"student_details.csv\", na_filter= True)\n",
    "a"
   ]
  },
  {
   "cell_type": "code",
   "execution_count": 97,
   "id": "2f4ef275",
   "metadata": {},
   "outputs": [
    {
     "data": {
      "text/plain": [
       "True"
      ]
     },
     "execution_count": 97,
     "metadata": {},
     "output_type": "execute_result"
    }
   ],
   "source": [
    "{'E-mail','Password','First name','Last name','Department','Semester','Division','Practical Batch','Lacture Batch'\n",
    "} == set(a.head(0))"
   ]
  },
  {
   "cell_type": "markdown",
   "id": "604ff5f3",
   "metadata": {},
   "source": [
    "check all the headders of the csv"
   ]
  },
  {
   "cell_type": "code",
   "execution_count": null,
   "id": "08a41033",
   "metadata": {},
   "outputs": [],
   "source": [
    "a = pd.read_csv(\"student_details.csv\")\n",
    "print(a.dropna(how='all', inplace=True)) # removes the empty rows\n",
    "a"
   ]
  },
  {
   "cell_type": "markdown",
   "id": "4f1605c5",
   "metadata": {},
   "source": [
    "reads and csv and cleans the data for further process"
   ]
  },
  {
   "cell_type": "code",
   "execution_count": null,
   "id": "9cc57ba7",
   "metadata": {},
   "outputs": [],
   "source": [
    "b = a[['E-mail','Password','First name','Last name','Department','Semester','Division']].isnull().any()\n",
    "# returns df of all the columns if any have empty \n",
    "b.any()\n",
    "# returns the bool if any is null"
   ]
  },
  {
   "cell_type": "markdown",
   "id": "e206ef1f",
   "metadata": {},
   "source": [
    "checks if columns are null or no and if so "
   ]
  },
  {
   "cell_type": "code",
   "execution_count": null,
   "id": "5cc3e2b3",
   "metadata": {},
   "outputs": [],
   "source": [
    "# a.loc[pd.isna(a[\"Password\"]), :].index\n",
    "arr = np.where(a[[\"Password\",\"E-mail\"]].isna())[0]\n",
    "for i in arr:\n",
    "    print(a.loc[i])"
   ]
  },
  {
   "cell_type": "markdown",
   "id": "63006200",
   "metadata": {},
   "source": [
    "returns the index of rows having empty cells"
   ]
  },
  {
   "cell_type": "code",
   "execution_count": null,
   "id": "8d69b53c",
   "metadata": {},
   "outputs": [],
   "source": [
    "a.dropna(subset=['E-mail','Password'],inplace = True) # remove all the vals having \n",
    "a"
   ]
  },
  {
   "cell_type": "code",
   "execution_count": null,
   "id": "265b41f3",
   "metadata": {},
   "outputs": [],
   "source": [
    "a.isnull().any()"
   ]
  },
  {
   "cell_type": "markdown",
   "id": "a92ff54a",
   "metadata": {},
   "source": [
    "for checking if any of the rows have empty cols"
   ]
  },
  {
   "cell_type": "code",
   "execution_count": null,
   "id": "c073439b",
   "metadata": {},
   "outputs": [],
   "source": [
    "a.fillna(0, inplace = True) # replace nan with something"
   ]
  },
  {
   "cell_type": "code",
   "execution_count": null,
   "id": "2f39dc1e",
   "metadata": {},
   "outputs": [],
   "source": [
    "import numpy as np\n",
    "for i in a.iterrows():\n",
    "    print(i)"
   ]
  },
  {
   "cell_type": "code",
   "execution_count": null,
   "id": "1d490dda",
   "metadata": {},
   "outputs": [],
   "source": []
  }
 ],
 "metadata": {
  "kernelspec": {
   "display_name": "Python 3",
   "language": "python",
   "name": "python3"
  },
  "language_info": {
   "codemirror_mode": {
    "name": "ipython",
    "version": 3
   },
   "file_extension": ".py",
   "mimetype": "text/x-python",
   "name": "python",
   "nbconvert_exporter": "python",
   "pygments_lexer": "ipython3",
   "version": "3.8.5"
  }
 },
 "nbformat": 4,
 "nbformat_minor": 5
}
