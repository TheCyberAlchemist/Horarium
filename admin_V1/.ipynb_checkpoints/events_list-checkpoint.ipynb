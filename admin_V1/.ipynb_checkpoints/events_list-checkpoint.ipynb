{
 "cells": [
  {
   "cell_type": "code",
   "execution_count": 2,
   "id": "1f3cb9ff",
   "metadata": {},
   "outputs": [],
   "source": [
    "class event_list(list):\n",
    "    def filt_faculty(self,Faculty):\n",
    "        'returns filtered event_list of all the (event.Subject_event_id.Faculty_id = Faculty)'\n",
    "        return event_list(filter(lambda x: x.Subject_event_id.Faculty_id == Faculty,self))\n",
    "    def filt_sub_event(self,sub_event):\n",
    "        'returns filtered event_list of all the (event.Subject_event_id = sub_events)'\n",
    "        return event_list(filter(lambda x: x.Subject_event_id == sub_event,self))\n",
    "    def filt_slot(self,slot):\n",
    "        'returns filtered event_list of all the (event.Slot_id = slot)'\n",
    "        return event_list(filter(lambda x: x.Slot_id == slot,self))\n",
    "    def filt_slot_2(self,slot):\n",
    "        'returns filtered event_list of all the (event.Slot_id_2 = slot)'\n",
    "        return event_list(filter(lambda x: x.Slot_id_2 == slot,self))\n",
    "    def filt_batch(self,batch = None):\n",
    "        '''returns filtered event_list of all the (event.Batch_id = batch)'''\n",
    "        return event_list(filter(lambda x: x.Batch_id == batch,self))\n",
    "    def filt_prac(self):\n",
    "        'returns filtered event_list of all the practical events (event.Slot_id_2 != None)'\n",
    "        return event_list(filter(lambda x: x.Slot_id_2 != None,self))\n",
    "    def filt_lect(self):\n",
    "        'returns filtered event_list of all the lecture events (event.Slot_id_2 = None)'\n",
    "        return event_list(filter(lambda x: x.Slot_id_2 == None,self))\n",
    "    def filt_slot_day(self,day):\n",
    "        'returns filtered event_list of all the (event.Slot_id.day = day)'\n",
    "        return event_list(filter(lambda x: x.Slot_id.day == day,self))"
   ]
  },
  {
   "cell_type": "code",
   "execution_count": 13,
   "id": "c10926fe",
   "metadata": {
    "scrolled": true
   },
   "outputs": [
    {
     "ename": "ImportError",
     "evalue": "attempted relative import with no known parent package",
     "output_type": "error",
     "traceback": [
      "\u001b[1;31m---------------------------------------------------------------------------\u001b[0m",
      "\u001b[1;31mImportError\u001b[0m                               Traceback (most recent call last)",
      "\u001b[1;32m<ipython-input-13-79ec40ef7bc2>\u001b[0m in \u001b[0;36m<module>\u001b[1;34m\u001b[0m\n\u001b[1;32m----> 1\u001b[1;33m \u001b[1;32mfrom\u001b[0m \u001b[1;33m.\u001b[0m\u001b[1;33m.\u001b[0m \u001b[0mTable_V2\u001b[0m\u001b[1;33m.\u001b[0m\u001b[0mmodels\u001b[0m \u001b[1;32mimport\u001b[0m \u001b[0mEvent\u001b[0m\u001b[1;33m\u001b[0m\u001b[1;33m\u001b[0m\u001b[0m\n\u001b[0m",
      "\u001b[1;31mImportError\u001b[0m: attempted relative import with no known parent package"
     ]
    }
   ],
   "source": []
  },
  {
   "cell_type": "code",
   "execution_count": null,
   "id": "9aef2ce9",
   "metadata": {},
   "outputs": [],
   "source": [
    "def filt_faculty(Faculty,my_events):\n",
    "    'returns filtered list of all the event.Subject_event_id.Faculty_id = Faculty'\n",
    "    return list(filter(lambda x: x.Subject_event_id.Faculty_id == Faculty,my_events))"
   ]
  },
  {
   "cell_type": "code",
   "execution_count": null,
   "id": "cf3103c5",
   "metadata": {},
   "outputs": [],
   "source": [
    "def filt_sub_event(sub_event,events):\n",
    "    'returns filtered list of all the event.Subject_event_id = sub_events'\n",
    "    return list(filter(lambda x: x.Subject_event_id == sub_event,events))"
   ]
  },
  {
   "cell_type": "code",
   "execution_count": null,
   "id": "678a2f8b",
   "metadata": {},
   "outputs": [],
   "source": [
    "def filt_slot(slot,events):\n",
    "    'returns filtered list of all the (event.Slot_id = slot)'\n",
    "    return list(filter(lambda x: x.Slot_id == slot,events))"
   ]
  },
  {
   "cell_type": "code",
   "execution_count": null,
   "id": "61aec494",
   "metadata": {},
   "outputs": [],
   "source": [
    "def filt_slot_2(slot,events):\n",
    "    'returns filtered list of all the (event.Slot_id_2 = slot)'\n",
    "    return list(filter(lambda x: x.Slot_id_2 == slot,events))"
   ]
  },
  {
   "cell_type": "code",
   "execution_count": null,
   "id": "678eb1e4",
   "metadata": {},
   "outputs": [],
   "source": [
    "def filt_batch(batch,events):\n",
    "    'returns filtered list of all the event.Batch_id = batch'\n",
    "    return list(filter(lambda x: x.Batch_id == batch,events))"
   ]
  },
  {
   "cell_type": "code",
   "execution_count": null,
   "id": "02bfa865",
   "metadata": {},
   "outputs": [],
   "source": [
    "def filt_prac(events):\n",
    "    'returns filtered list of all the practical events (event.Slot_id_2 != None)'\n",
    "    return list(filter(lambda x: x.Slot_id_2 != None,events))"
   ]
  },
  {
   "cell_type": "code",
   "execution_count": null,
   "id": "b5c65fbb",
   "metadata": {},
   "outputs": [],
   "source": [
    "def filt_lect(event):\n",
    "    'returns filtered list of all the lecture events (event.Slot_id_2 = None)'\n",
    "    return list(filter(lambda x: x.Slot_id_2 == None,events))"
   ]
  },
  {
   "cell_type": "code",
   "execution_count": null,
   "id": "0bccd947",
   "metadata": {},
   "outputs": [],
   "source": [
    "def filt_slot_day(day,events):\n",
    "    'returns filtered list of all the (event.Slot_id.day = day)'\n",
    "    return list(filter(lambda x: x.Slot_id.day == day,events)) "
   ]
  }
 ],
 "metadata": {
  "kernelspec": {
   "display_name": "Python 3",
   "language": "python",
   "name": "python3"
  },
  "language_info": {
   "codemirror_mode": {
    "name": "ipython",
    "version": 3
   },
   "file_extension": ".py",
   "mimetype": "text/x-python",
   "name": "python",
   "nbconvert_exporter": "python",
   "pygments_lexer": "ipython3",
   "version": "3.8.5"
  }
 },
 "nbformat": 4,
 "nbformat_minor": 5
}
