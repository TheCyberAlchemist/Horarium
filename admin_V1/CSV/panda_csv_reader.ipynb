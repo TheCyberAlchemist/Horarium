{
 "cells": [
  {
   "cell_type": "markdown",
   "id": "f32548cc",
   "metadata": {},
   "source": [
    "<ol>\n",
    "    <li><b>remove empty rows</b></li>\n",
    "    <li><b>remove duplicates</b></li>\n",
    "    <li><b>check headers</b></li>\n",
    "    <li><b>User Details</b></li>\n",
    "    <li><b>Student Details</b></li>\n",
    "    <li><b>Check Email duplications(internal)</b></li>\n",
    "    <li><b>Check Email duplications(external)</b></li>\n",
    "    <li><b>Check other details(Deartment,Branch,)</b></li>\n",
    "    <li><b></b></li>\n",
    "    <li><b></b></li>\n",
    "    <li><b></b></li>\n",
    "</ol>"
   ]
  },
  {
   "cell_type": "code",
   "execution_count": null,
   "id": "0529446e",
   "metadata": {},
   "outputs": [],
   "source": [
    "import pandas as pd\n",
    "import numpy as np"
   ]
  },
  {
   "cell_type": "code",
   "execution_count": null,
   "id": "2c566be2",
   "metadata": {},
   "outputs": [],
   "source": [
    "a = pd.read_csv(\"student_details.csv\", na_filter= True)\n",
    "a"
   ]
  },
  {
   "cell_type": "markdown",
   "id": "28053530",
   "metadata": {},
   "source": [
    "read the csv"
   ]
  },
  {
   "cell_type": "code",
   "execution_count": null,
   "id": "08a41033",
   "metadata": {},
   "outputs": [],
   "source": [
    "print(a.dropna(how='all', inplace=True)) # removes the empty rows\n",
    "a"
   ]
  },
  {
   "cell_type": "markdown",
   "id": "4f1605c5",
   "metadata": {},
   "source": [
    "remove the empty rows in the ds"
   ]
  },
  {
   "cell_type": "code",
   "execution_count": null,
   "id": "2f4ef275",
   "metadata": {},
   "outputs": [],
   "source": [
    "{'E-mail','Password','First name','Last name','Department','Semester','Division','Practical Batch','Lacture Batch'\n",
    "} == set(a.head(0))"
   ]
  },
  {
   "cell_type": "markdown",
   "id": "604ff5f3",
   "metadata": {},
   "source": [
    "check all the headders of the csv"
   ]
  },
  {
   "cell_type": "code",
   "execution_count": null,
   "id": "9cc57ba7",
   "metadata": {},
   "outputs": [],
   "source": [
    "b = a[['E-mail','Password','First name','Last name','Department','Semester','Division']].isnull().any()\n",
    "# returns df of all the columns if any have empty \n",
    "print(b)\n",
    "b.any()\n",
    "# returns the bool if any is null"
   ]
  },
  {
   "cell_type": "markdown",
   "id": "e206ef1f",
   "metadata": {},
   "source": [
    "returns true if any of the rows having following cells have empty value\n",
    "else it returns false"
   ]
  },
  {
   "cell_type": "code",
   "execution_count": null,
   "id": "5cc3e2b3",
   "metadata": {},
   "outputs": [],
   "source": [
    "# a.loc[pd.isna(a[[\"Password\",\"E-mail\"]]), :]\n",
    "arr = np.where(a[[\"Password\",\"E-mail\"]].isna())[0]\n",
    "for i in arr:\n",
    "    print(type(a.loc[i].to_frame()))\n",
    "    print((a.loc[i].to_frame().to_json(orient=\"columns\"))) # get json of the rows having the following items empty"
   ]
  },
  {
   "cell_type": "markdown",
   "id": "63006200",
   "metadata": {},
   "source": [
    "returns the index of rows having empty cells"
   ]
  },
  {
   "cell_type": "code",
   "execution_count": null,
   "id": "0a5cb8c3",
   "metadata": {},
   "outputs": [],
   "source": [
    "a.sort_values(\"E-mail\")"
   ]
  },
  {
   "cell_type": "markdown",
   "id": "416393bf",
   "metadata": {},
   "source": [
    "sorting according to one column"
   ]
  },
  {
   "cell_type": "code",
   "execution_count": null,
   "id": "1abf676e",
   "metadata": {},
   "outputs": [],
   "source": [
    "a.loc[pd.isna(a[\"Password\"]) | pd.isna(a[\"E-mail\"]) | pd.isna(a[\"First name\"]) | pd.isna(a[\"Last name\"]) , :]#.to_html()"
   ]
  },
  {
   "cell_type": "markdown",
   "id": "cd8152f5",
   "metadata": {},
   "source": [
    "if you want different type of json then the one in simple list for user and student details function\n",
    "<table border=\"1\" class=\"dataframe\">\\n  <thead>\\n    <tr style=\"text-align: right;\">\\n      <th></th>\\n      <th>E-mail</th>\\n      <th>Password</th>\\n      <th>First name</th>\\n      <th>Last name</th>\\n      <th>Roll_no</th>\\n      <th>Department</th>\\n      <th>Semester</th>\\n      <th>Branch</th>\\n      <th>Division</th>\\n      <th>Practical Batch</th>\\n      <th>Lecture Batch</th>\\n    </tr>\\n  </thead>\\n  <tbody>\\n    <tr>\\n      <th>2</th>\\n      <td>NaN</td>\\n      <td>horarium</td>\\n      <td>c</td>\\n      <td>c</td>\\n      <td>3</td>\\n      <td>CSE</td>\\n      <td>Sem-1</td>\\n      <td>B.TECH</td>\\n      <td>A</td>\\n      <td>11</td>\\n      <td>NaN</td>\\n    </tr>\\n    <tr>\\n      <th>3</th>\\n      <td>d@d.com</td>\\n      <td>NaN</td>\\n      <td>d</td>\\n      <td>d</td>\\n      <td>4</td>\\n      <td>CSE</td>\\n      <td>NaN</td>\\n      <td>B.TECH</td>\\n      <td>A</td>\\n      <td>11</td>\\n      <td>NaN</td>\\n    </tr>\\n  </tbody>\\n</table>"
   ]
  },
  {
   "cell_type": "code",
   "execution_count": null,
   "id": "8d69b53c",
   "metadata": {},
   "outputs": [],
   "source": [
    "c = a.dropna(subset=['E-mail','Password'],)#,inplace = True) # remove all the vals having empty cells\n",
    "# use inplace for changing the original else return the changed\n",
    "c"
   ]
  },
  {
   "cell_type": "code",
   "execution_count": null,
   "id": "265b41f3",
   "metadata": {},
   "outputs": [],
   "source": [
    "b = a.isnull().any()\n",
    "# b.any()\n",
    "b"
   ]
  },
  {
   "cell_type": "markdown",
   "id": "a92ff54a",
   "metadata": {},
   "source": [
    "for checking if any of the rows have any empty cols"
   ]
  },
  {
   "cell_type": "code",
   "execution_count": null,
   "id": "c073439b",
   "metadata": {},
   "outputs": [],
   "source": [
    "a.fillna(0, inplace = True) # replace nan with something\n",
    "a"
   ]
  },
  {
   "cell_type": "code",
   "execution_count": null,
   "id": "f0e2f4fd",
   "metadata": {
    "scrolled": true
   },
   "outputs": [],
   "source": [
    "# a[a['E-mail'] == \"a@a.com\"].to_json(orient=\"index\")\n",
    "a[a['E-mail'] == \"a@a.com\"].to_html(header=False)\n",
    "# a[a['E-mail'].isin([\"a@a.com\"])]"
   ]
  },
  {
   "cell_type": "markdown",
   "id": "42780eed",
   "metadata": {},
   "source": [
    "filter using columns or by using an array\n",
    "<table border=\"1\" class=\"dataframe\">\\n  <tbody>\\n    <tr>\\n      <th>0</th>\\n      <td>a@a.com</td>\\n      <td>horarium</td>\\n      <td>a</td>\\n      <td>a</td>\\n      <td>1</td>\\n      <td>CSE</td>\\n      <td>Sem-1</td>\\n      <td>B.TECH</td>\\n      <td>A</td>\\n      <td>11</td>\\n      <td>12.0</td>\\n    </tr>\\n  </tbody>\\n</table>"
   ]
  },
  {
   "cell_type": "code",
   "execution_count": 93,
   "id": "2f39dc1e",
   "metadata": {},
   "outputs": [
    {
     "name": "stdout",
     "output_type": "stream",
     "text": [
      "here\n",
      "   Branch Department Division   E-mail First name Last name  Lecture Batch  \\\n",
      "0  B.TECH        CSE        A  a@a.com          a         a           12.0   \n",
      "\n",
      "   Password  Practical Batch  Roll_no Semester  \n",
      "0  horarium             11.0      1.0    Sem-1  \n"
     ]
    }
   ],
   "source": [
    "# import numpy as np\n",
    "df1 = pd.DataFrame()\n",
    "# print(a)\n",
    "# print(df1.append(a, ignore_index = True))\n",
    "for i,row in a.iterrows():\n",
    "#     print(pd.isna(a['Lecture Batch'])[i])\n",
    "    if not pd.isna(a['Lecture Batch'])[i]:\n",
    "        df1 = df1.append(row)\n",
    "        print(\"here\")\n",
    "    else:\n",
    "#         print(\"asdadasda\")\n",
    "        pass\n",
    "print(df1)"
   ]
  },
  {
   "cell_type": "markdown",
   "id": "a31b4ceb",
   "metadata": {},
   "source": [
    "Iterate the ds for any reasons"
   ]
  },
  {
   "cell_type": "code",
   "execution_count": null,
   "id": "1d490dda",
   "metadata": {},
   "outputs": [],
   "source": [
    "a[a.duplicated(['E-mail'],keep=False)].to_html()"
   ]
  },
  {
   "cell_type": "markdown",
   "id": "d72a7725",
   "metadata": {},
   "source": [
    "get any duplicates and get the data set"
   ]
  },
  {
   "cell_type": "code",
   "execution_count": null,
   "id": "73d6f45b",
   "metadata": {},
   "outputs": [],
   "source": [
    "# a[a.duplicated(['E-mail'],keep=False)].to_dict(orient=\"index\")\n",
    "a[a.duplicated(['E-mail'],keep=False)].empty\n",
    "# .to_json(orient=\"index\")"
   ]
  },
  {
   "cell_type": "markdown",
   "id": "08ceb40f",
   "metadata": {},
   "source": [
    "get an array of index of email duplicates in the ds"
   ]
  },
  {
   "cell_type": "code",
   "execution_count": null,
   "id": "8f168c90",
   "metadata": {},
   "outputs": [],
   "source": [
    "a['E-mail'].tolist()"
   ]
  },
  {
   "cell_type": "markdown",
   "id": "8d994825",
   "metadata": {},
   "source": [
    "get a list of all the cells of a ds for qs "
   ]
  },
  {
   "cell_type": "code",
   "execution_count": null,
   "id": "363e3dec",
   "metadata": {},
   "outputs": [],
   "source": [
    "a.drop_duplicates()"
   ]
  },
  {
   "cell_type": "markdown",
   "id": "508266d1",
   "metadata": {},
   "source": [
    "drop the duplicate rows in the ds \n",
    "https://pandas.pydata.org/docs/reference/api/pandas.DataFrame.drop_duplicates.html#pandas-dataframe-drop-duplicates\n"
   ]
  },
  {
   "cell_type": "code",
   "execution_count": null,
   "id": "f9efadd3",
   "metadata": {},
   "outputs": [],
   "source": [
    "COLUMN_NAMES=['E-mail','Password','First name','Last name','Roll_no','Department','Semester',\"Branch\",'Division','Practical Batch','Lacture Batch']\n",
    "df = pd.DataFrame(columns=COLUMN_NAMES)\n",
    "# df.append([\"asd\",\"asd\",\"asd\",\"asd\",\"asd\",\"asd\",\"asd\",\"asd\",\"asd\",\"asd\",\"asd\",\"asd\"])\n",
    "dict1 = {}\n",
    "# get input row in dictionary format\n",
    "# key = col_name\n",
    "dict1.update() \n",
    "\n",
    "rows_list.append(dict1)"
   ]
  },
  {
   "cell_type": "code",
   "execution_count": null,
   "id": "37359817",
   "metadata": {},
   "outputs": [],
   "source": []
  }
 ],
 "metadata": {
  "kernelspec": {
   "display_name": "Python 3",
   "language": "python",
   "name": "python3"
  },
  "language_info": {
   "codemirror_mode": {
    "name": "ipython",
    "version": 3
   },
   "file_extension": ".py",
   "mimetype": "text/x-python",
   "name": "python",
   "nbconvert_exporter": "python",
   "pygments_lexer": "ipython3",
   "version": "3.8.5"
  }
 },
 "nbformat": 4,
 "nbformat_minor": 5
}
