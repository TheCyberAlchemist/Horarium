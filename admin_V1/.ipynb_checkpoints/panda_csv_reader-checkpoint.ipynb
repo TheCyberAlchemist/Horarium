{
 "cells": [
  {
   "cell_type": "markdown",
   "id": "0b98343b",
   "metadata": {},
   "source": [
    "<ol>\n",
    "<li><b>check headers</b></li>\n",
    "<li><b>remove empty rows</b></li>\n",
    "<li><b>remove duplicates</b></li>\n",
    "<li><b></b></li>\n",
    "<li><b></b></li>\n",
    "<li><b></b></li>\n",
    "<li><b></b></li>\n",
    "<li><b></b></li>\n",
    "</ol>"
   ]
  },
  {
   "cell_type": "code",
   "execution_count": null,
   "id": "0529446e",
   "metadata": {},
   "outputs": [],
   "source": [
    "import pandas as pd\n",
    "import numpy as np"
   ]
  },
  {
   "cell_type": "code",
   "execution_count": 136,
   "id": "2c566be2",
   "metadata": {},
   "outputs": [
    {
     "data": {
      "text/html": [
       "<div>\n",
       "<style scoped>\n",
       "    .dataframe tbody tr th:only-of-type {\n",
       "        vertical-align: middle;\n",
       "    }\n",
       "\n",
       "    .dataframe tbody tr th {\n",
       "        vertical-align: top;\n",
       "    }\n",
       "\n",
       "    .dataframe thead th {\n",
       "        text-align: right;\n",
       "    }\n",
       "</style>\n",
       "<table border=\"1\" class=\"dataframe\">\n",
       "  <thead>\n",
       "    <tr style=\"text-align: right;\">\n",
       "      <th></th>\n",
       "      <th>E-mail</th>\n",
       "      <th>Password</th>\n",
       "      <th>First name</th>\n",
       "      <th>Last name</th>\n",
       "      <th>Roll_no</th>\n",
       "      <th>Department</th>\n",
       "      <th>Semester</th>\n",
       "      <th>Division</th>\n",
       "      <th>Practical Batch</th>\n",
       "      <th>Lacture Batch</th>\n",
       "    </tr>\n",
       "  </thead>\n",
       "  <tbody>\n",
       "    <tr>\n",
       "      <th>0</th>\n",
       "      <td>a@a.com</td>\n",
       "      <td>horarium</td>\n",
       "      <td>b</td>\n",
       "      <td>b</td>\n",
       "      <td>1</td>\n",
       "      <td>CSE</td>\n",
       "      <td>Sem-1</td>\n",
       "      <td>A</td>\n",
       "      <td>11</td>\n",
       "      <td>NaN</td>\n",
       "    </tr>\n",
       "    <tr>\n",
       "      <th>1</th>\n",
       "      <td>b@b.com</td>\n",
       "      <td>horarium</td>\n",
       "      <td>c</td>\n",
       "      <td>c</td>\n",
       "      <td>2</td>\n",
       "      <td>CSE</td>\n",
       "      <td>Sem-1</td>\n",
       "      <td>A</td>\n",
       "      <td>11</td>\n",
       "      <td>NaN</td>\n",
       "    </tr>\n",
       "    <tr>\n",
       "      <th>2</th>\n",
       "      <td>c@c.com</td>\n",
       "      <td>horarium</td>\n",
       "      <td>d</td>\n",
       "      <td>d</td>\n",
       "      <td>3</td>\n",
       "      <td>CSE</td>\n",
       "      <td>NaN</td>\n",
       "      <td>A</td>\n",
       "      <td>11</td>\n",
       "      <td>NaN</td>\n",
       "    </tr>\n",
       "    <tr>\n",
       "      <th>3</th>\n",
       "      <td>e@e.com</td>\n",
       "      <td>NaN</td>\n",
       "      <td>e</td>\n",
       "      <td>e</td>\n",
       "      <td>4</td>\n",
       "      <td>CSE</td>\n",
       "      <td>Sem-1</td>\n",
       "      <td>A</td>\n",
       "      <td>11</td>\n",
       "      <td>NaN</td>\n",
       "    </tr>\n",
       "    <tr>\n",
       "      <th>4</th>\n",
       "      <td>NaN</td>\n",
       "      <td>horarium</td>\n",
       "      <td>f</td>\n",
       "      <td>f</td>\n",
       "      <td>5</td>\n",
       "      <td>CSE</td>\n",
       "      <td>Sem-1</td>\n",
       "      <td>A</td>\n",
       "      <td>11</td>\n",
       "      <td>NaN</td>\n",
       "    </tr>\n",
       "    <tr>\n",
       "      <th>5</th>\n",
       "      <td>c@c.com</td>\n",
       "      <td>horarium</td>\n",
       "      <td>f</td>\n",
       "      <td>f</td>\n",
       "      <td>6</td>\n",
       "      <td>CSE</td>\n",
       "      <td>Sem-2</td>\n",
       "      <td>A</td>\n",
       "      <td>11</td>\n",
       "      <td>NaN</td>\n",
       "    </tr>\n",
       "    <tr>\n",
       "      <th>6</th>\n",
       "      <td>e@e.com</td>\n",
       "      <td>horarium</td>\n",
       "      <td>f</td>\n",
       "      <td>f</td>\n",
       "      <td>7</td>\n",
       "      <td>CSE</td>\n",
       "      <td>Sem-3</td>\n",
       "      <td>A</td>\n",
       "      <td>11</td>\n",
       "      <td>NaN</td>\n",
       "    </tr>\n",
       "    <tr>\n",
       "      <th>7</th>\n",
       "      <td>e@e.com</td>\n",
       "      <td>horarium</td>\n",
       "      <td>f</td>\n",
       "      <td>f</td>\n",
       "      <td>7</td>\n",
       "      <td>CSE</td>\n",
       "      <td>Sem-3</td>\n",
       "      <td>A</td>\n",
       "      <td>11</td>\n",
       "      <td>NaN</td>\n",
       "    </tr>\n",
       "  </tbody>\n",
       "</table>\n",
       "</div>"
      ],
      "text/plain": [
       "    E-mail  Password First name Last name  Roll_no Department Semester  \\\n",
       "0  a@a.com  horarium          b         b        1        CSE    Sem-1   \n",
       "1  b@b.com  horarium          c         c        2        CSE    Sem-1   \n",
       "2  c@c.com  horarium          d         d        3        CSE      NaN   \n",
       "3  e@e.com       NaN          e         e        4        CSE    Sem-1   \n",
       "4      NaN  horarium          f         f        5        CSE    Sem-1   \n",
       "5  c@c.com  horarium          f         f        6        CSE    Sem-2   \n",
       "6  e@e.com  horarium          f         f        7        CSE    Sem-3   \n",
       "7  e@e.com  horarium          f         f        7        CSE    Sem-3   \n",
       "\n",
       "  Division  Practical Batch  Lacture Batch  \n",
       "0        A               11            NaN  \n",
       "1        A               11            NaN  \n",
       "2        A               11            NaN  \n",
       "3        A               11            NaN  \n",
       "4        A               11            NaN  \n",
       "5        A               11            NaN  \n",
       "6        A               11            NaN  \n",
       "7        A               11            NaN  "
      ]
     },
     "execution_count": 136,
     "metadata": {},
     "output_type": "execute_result"
    }
   ],
   "source": [
    "a = pd.read_csv(\"student_details.csv\", na_filter= True)\n",
    "a"
   ]
  },
  {
   "cell_type": "markdown",
   "id": "28053530",
   "metadata": {},
   "source": [
    "read the csv"
   ]
  },
  {
   "cell_type": "code",
   "execution_count": null,
   "id": "08a41033",
   "metadata": {},
   "outputs": [],
   "source": [
    "print(a.dropna(how='all', inplace=True)) # removes the empty rows\n",
    "a"
   ]
  },
  {
   "cell_type": "markdown",
   "id": "4f1605c5",
   "metadata": {},
   "source": [
    "remove the empty rows in the ds"
   ]
  },
  {
   "cell_type": "code",
   "execution_count": null,
   "id": "2f4ef275",
   "metadata": {},
   "outputs": [],
   "source": [
    "{'E-mail','Password','First name','Last name','Department','Semester','Division','Practical Batch','Lacture Batch'\n",
    "} == set(a.head(0))"
   ]
  },
  {
   "cell_type": "markdown",
   "id": "604ff5f3",
   "metadata": {},
   "source": [
    "check all the headders of the csv"
   ]
  },
  {
   "cell_type": "code",
   "execution_count": null,
   "id": "9cc57ba7",
   "metadata": {},
   "outputs": [],
   "source": [
    "b = a[['E-mail','Password','First name','Last name','Department','Semester','Division']].isnull().any()\n",
    "# returns df of all the columns if any have empty \n",
    "print(b)\n",
    "b.any()\n",
    "# returns the bool if any is null"
   ]
  },
  {
   "cell_type": "markdown",
   "id": "e206ef1f",
   "metadata": {},
   "source": [
    "returns true if any of the rows having following cells have empty value\n",
    "else it returns false"
   ]
  },
  {
   "cell_type": "code",
   "execution_count": null,
   "id": "5cc3e2b3",
   "metadata": {},
   "outputs": [],
   "source": [
    "# a.loc[pd.isna(a[[\"Password\",\"E-mail\"]]), :]\n",
    "arr = np.where(a[[\"Password\",\"E-mail\"]].isna())[0]\n",
    "for i in arr:\n",
    "    print(type(a.loc[i].to_frame()))\n",
    "    print((a.loc[i].to_frame().to_json(orient=\"columns\"))) # get json of the rows having the following items empty"
   ]
  },
  {
   "cell_type": "markdown",
   "id": "63006200",
   "metadata": {},
   "source": [
    "returns the index of rows having empty cells"
   ]
  },
  {
   "cell_type": "code",
   "execution_count": 142,
   "id": "2524105b",
   "metadata": {},
   "outputs": [
    {
     "ename": "ValueError",
     "evalue": "The truth value of a Series is ambiguous. Use a.empty, a.bool(), a.item(), a.any() or a.all().",
     "output_type": "error",
     "traceback": [
      "\u001b[1;31m---------------------------------------------------------------------------\u001b[0m",
      "\u001b[1;31mValueError\u001b[0m                                Traceback (most recent call last)",
      "\u001b[1;32m<ipython-input-142-033759d68b77>\u001b[0m in \u001b[0;36m<module>\u001b[1;34m\u001b[0m\n\u001b[1;32m----> 1\u001b[1;33m \u001b[0ma\u001b[0m\u001b[1;33m.\u001b[0m\u001b[0mloc\u001b[0m\u001b[1;33m[\u001b[0m\u001b[0mpd\u001b[0m\u001b[1;33m.\u001b[0m\u001b[0misna\u001b[0m\u001b[1;33m(\u001b[0m\u001b[0ma\u001b[0m\u001b[1;33m[\u001b[0m\u001b[1;34m\"Password\"\u001b[0m\u001b[1;33m]\u001b[0m\u001b[1;33m)\u001b[0m \u001b[1;32mor\u001b[0m \u001b[0mpd\u001b[0m\u001b[1;33m.\u001b[0m\u001b[0misna\u001b[0m\u001b[1;33m(\u001b[0m\u001b[0ma\u001b[0m\u001b[1;33m[\u001b[0m\u001b[1;34m\"E-mail\"\u001b[0m\u001b[1;33m]\u001b[0m\u001b[1;33m)\u001b[0m\u001b[1;33m,\u001b[0m \u001b[1;33m:\u001b[0m\u001b[1;33m]\u001b[0m\u001b[1;33m.\u001b[0m\u001b[0many\u001b[0m\u001b[1;33m(\u001b[0m\u001b[1;33m)\u001b[0m\u001b[1;33m.\u001b[0m\u001b[0mto_json\u001b[0m\u001b[1;33m(\u001b[0m\u001b[0morient\u001b[0m\u001b[1;33m=\u001b[0m\u001b[1;34m\"index\"\u001b[0m\u001b[1;33m)\u001b[0m\u001b[1;33m\u001b[0m\u001b[1;33m\u001b[0m\u001b[0m\n\u001b[0m\u001b[0;32m      2\u001b[0m \u001b[1;31m# doesn't work well - enough\u001b[0m\u001b[1;33m\u001b[0m\u001b[1;33m\u001b[0m\u001b[1;33m\u001b[0m\u001b[0m\n",
      "\u001b[1;32mc:\\python38\\lib\\site-packages\\pandas\\core\\generic.py\u001b[0m in \u001b[0;36m__nonzero__\u001b[1;34m(self)\u001b[0m\n\u001b[0;32m   1439\u001b[0m     \u001b[1;33m@\u001b[0m\u001b[0mfinal\u001b[0m\u001b[1;33m\u001b[0m\u001b[1;33m\u001b[0m\u001b[0m\n\u001b[0;32m   1440\u001b[0m     \u001b[1;32mdef\u001b[0m \u001b[0m__nonzero__\u001b[0m\u001b[1;33m(\u001b[0m\u001b[0mself\u001b[0m\u001b[1;33m)\u001b[0m\u001b[1;33m:\u001b[0m\u001b[1;33m\u001b[0m\u001b[1;33m\u001b[0m\u001b[0m\n\u001b[1;32m-> 1441\u001b[1;33m         raise ValueError(\n\u001b[0m\u001b[0;32m   1442\u001b[0m             \u001b[1;34mf\"The truth value of a {type(self).__name__} is ambiguous. \"\u001b[0m\u001b[1;33m\u001b[0m\u001b[1;33m\u001b[0m\u001b[0m\n\u001b[0;32m   1443\u001b[0m             \u001b[1;34m\"Use a.empty, a.bool(), a.item(), a.any() or a.all().\"\u001b[0m\u001b[1;33m\u001b[0m\u001b[1;33m\u001b[0m\u001b[0m\n",
      "\u001b[1;31mValueError\u001b[0m: The truth value of a Series is ambiguous. Use a.empty, a.bool(), a.item(), a.any() or a.all()."
     ]
    }
   ],
   "source": [
    "a.loc[pd.isna(a[\"Password\"]) or pd.isna(a[\"E-mail\"]).any(), :].to_json(orient=\"index\")\n",
    "# doesn't work well - enough"
   ]
  },
  {
   "cell_type": "code",
   "execution_count": null,
   "id": "1acbd58c",
   "metadata": {},
   "outputs": [],
   "source": []
  },
  {
   "cell_type": "code",
   "execution_count": null,
   "id": "8d69b53c",
   "metadata": {},
   "outputs": [],
   "source": [
    "c = a.dropna(subset=['E-mail','Password'])#,inplace = True) # remove all the vals having empty cells\n",
    "# use inplace for changing the original else return the changed\n",
    "c"
   ]
  },
  {
   "cell_type": "code",
   "execution_count": null,
   "id": "265b41f3",
   "metadata": {},
   "outputs": [],
   "source": [
    "b = a.isnull().any()\n",
    "# b.any()\n",
    "b"
   ]
  },
  {
   "cell_type": "markdown",
   "id": "a92ff54a",
   "metadata": {},
   "source": [
    "for checking if any of the rows have any empty cols"
   ]
  },
  {
   "cell_type": "code",
   "execution_count": 125,
   "id": "c073439b",
   "metadata": {},
   "outputs": [
    {
     "data": {
      "text/html": [
       "<div>\n",
       "<style scoped>\n",
       "    .dataframe tbody tr th:only-of-type {\n",
       "        vertical-align: middle;\n",
       "    }\n",
       "\n",
       "    .dataframe tbody tr th {\n",
       "        vertical-align: top;\n",
       "    }\n",
       "\n",
       "    .dataframe thead th {\n",
       "        text-align: right;\n",
       "    }\n",
       "</style>\n",
       "<table border=\"1\" class=\"dataframe\">\n",
       "  <thead>\n",
       "    <tr style=\"text-align: right;\">\n",
       "      <th></th>\n",
       "      <th>E-mail</th>\n",
       "      <th>Password</th>\n",
       "      <th>First name</th>\n",
       "      <th>Last name</th>\n",
       "      <th>Roll_no</th>\n",
       "      <th>Department</th>\n",
       "      <th>Semester</th>\n",
       "      <th>Division</th>\n",
       "      <th>Practical Batch</th>\n",
       "      <th>Lacture Batch</th>\n",
       "    </tr>\n",
       "  </thead>\n",
       "  <tbody>\n",
       "    <tr>\n",
       "      <th>0</th>\n",
       "      <td>a@a.com</td>\n",
       "      <td>horarium</td>\n",
       "      <td>b</td>\n",
       "      <td>b</td>\n",
       "      <td>1</td>\n",
       "      <td>CSE</td>\n",
       "      <td>Sem-1</td>\n",
       "      <td>A</td>\n",
       "      <td>11</td>\n",
       "      <td>0.0</td>\n",
       "    </tr>\n",
       "    <tr>\n",
       "      <th>1</th>\n",
       "      <td>b@b.com</td>\n",
       "      <td>horarium</td>\n",
       "      <td>c</td>\n",
       "      <td>c</td>\n",
       "      <td>2</td>\n",
       "      <td>CSE</td>\n",
       "      <td>Sem-1</td>\n",
       "      <td>A</td>\n",
       "      <td>11</td>\n",
       "      <td>0.0</td>\n",
       "    </tr>\n",
       "    <tr>\n",
       "      <th>2</th>\n",
       "      <td>c@c.com</td>\n",
       "      <td>horarium</td>\n",
       "      <td>d</td>\n",
       "      <td>d</td>\n",
       "      <td>3</td>\n",
       "      <td>CSE</td>\n",
       "      <td>0</td>\n",
       "      <td>A</td>\n",
       "      <td>11</td>\n",
       "      <td>0.0</td>\n",
       "    </tr>\n",
       "    <tr>\n",
       "      <th>3</th>\n",
       "      <td>e@e.com</td>\n",
       "      <td>0</td>\n",
       "      <td>e</td>\n",
       "      <td>e</td>\n",
       "      <td>4</td>\n",
       "      <td>CSE</td>\n",
       "      <td>Sem-1</td>\n",
       "      <td>A</td>\n",
       "      <td>11</td>\n",
       "      <td>0.0</td>\n",
       "    </tr>\n",
       "    <tr>\n",
       "      <th>4</th>\n",
       "      <td>0</td>\n",
       "      <td>horarium</td>\n",
       "      <td>f</td>\n",
       "      <td>f</td>\n",
       "      <td>5</td>\n",
       "      <td>CSE</td>\n",
       "      <td>Sem-1</td>\n",
       "      <td>A</td>\n",
       "      <td>11</td>\n",
       "      <td>0.0</td>\n",
       "    </tr>\n",
       "    <tr>\n",
       "      <th>5</th>\n",
       "      <td>c@c.com</td>\n",
       "      <td>horarium</td>\n",
       "      <td>f</td>\n",
       "      <td>f</td>\n",
       "      <td>6</td>\n",
       "      <td>CSE</td>\n",
       "      <td>Sem-2</td>\n",
       "      <td>A</td>\n",
       "      <td>11</td>\n",
       "      <td>0.0</td>\n",
       "    </tr>\n",
       "    <tr>\n",
       "      <th>6</th>\n",
       "      <td>e@e.com</td>\n",
       "      <td>horarium</td>\n",
       "      <td>f</td>\n",
       "      <td>f</td>\n",
       "      <td>7</td>\n",
       "      <td>CSE</td>\n",
       "      <td>Sem-3</td>\n",
       "      <td>A</td>\n",
       "      <td>11</td>\n",
       "      <td>0.0</td>\n",
       "    </tr>\n",
       "    <tr>\n",
       "      <th>7</th>\n",
       "      <td>e@e.com</td>\n",
       "      <td>horarium</td>\n",
       "      <td>f</td>\n",
       "      <td>f</td>\n",
       "      <td>7</td>\n",
       "      <td>CSE</td>\n",
       "      <td>Sem-3</td>\n",
       "      <td>A</td>\n",
       "      <td>11</td>\n",
       "      <td>0.0</td>\n",
       "    </tr>\n",
       "  </tbody>\n",
       "</table>\n",
       "</div>"
      ],
      "text/plain": [
       "    E-mail  Password First name Last name  Roll_no Department Semester  \\\n",
       "0  a@a.com  horarium          b         b        1        CSE    Sem-1   \n",
       "1  b@b.com  horarium          c         c        2        CSE    Sem-1   \n",
       "2  c@c.com  horarium          d         d        3        CSE        0   \n",
       "3  e@e.com         0          e         e        4        CSE    Sem-1   \n",
       "4        0  horarium          f         f        5        CSE    Sem-1   \n",
       "5  c@c.com  horarium          f         f        6        CSE    Sem-2   \n",
       "6  e@e.com  horarium          f         f        7        CSE    Sem-3   \n",
       "7  e@e.com  horarium          f         f        7        CSE    Sem-3   \n",
       "\n",
       "  Division  Practical Batch  Lacture Batch  \n",
       "0        A               11            0.0  \n",
       "1        A               11            0.0  \n",
       "2        A               11            0.0  \n",
       "3        A               11            0.0  \n",
       "4        A               11            0.0  \n",
       "5        A               11            0.0  \n",
       "6        A               11            0.0  \n",
       "7        A               11            0.0  "
      ]
     },
     "execution_count": 125,
     "metadata": {},
     "output_type": "execute_result"
    }
   ],
   "source": [
    "a.fillna(0, inplace = True) # replace nan with something\n",
    "a"
   ]
  },
  {
   "cell_type": "code",
   "execution_count": null,
   "id": "2f39dc1e",
   "metadata": {},
   "outputs": [],
   "source": [
    "import numpy as np\n",
    "for i in a.iterrows():\n",
    "    print(i)"
   ]
  },
  {
   "cell_type": "markdown",
   "id": "a31b4ceb",
   "metadata": {},
   "source": [
    "Iterate the ds for any reasons"
   ]
  },
  {
   "cell_type": "code",
   "execution_count": null,
   "id": "1d490dda",
   "metadata": {},
   "outputs": [],
   "source": [
    "duplicate_emails = a[a.duplicated(['E-mail'])]"
   ]
  },
  {
   "cell_type": "markdown",
   "id": "d72a7725",
   "metadata": {},
   "source": [
    "get any duplicates and get the data set"
   ]
  },
  {
   "cell_type": "code",
   "execution_count": 133,
   "id": "73d6f45b",
   "metadata": {},
   "outputs": [
    {
     "data": {
      "text/plain": [
       "'{\"5\":{\"E-mail\":\"c@c.com\",\"Password\":\"horarium\",\"First name\":\"f\",\"Last name\":\"f\",\"Roll_no\":6,\"Department\":\"CSE\",\"Semester\":\"Sem-2\",\"Division\":\"A\",\"Practical Batch\":11,\"Lacture Batch\":0.0},\"6\":{\"E-mail\":\"e@e.com\",\"Password\":\"horarium\",\"First name\":\"f\",\"Last name\":\"f\",\"Roll_no\":7,\"Department\":\"CSE\",\"Semester\":\"Sem-3\",\"Division\":\"A\",\"Practical Batch\":11,\"Lacture Batch\":0.0},\"7\":{\"E-mail\":\"e@e.com\",\"Password\":\"horarium\",\"First name\":\"f\",\"Last name\":\"f\",\"Roll_no\":7,\"Department\":\"CSE\",\"Semester\":\"Sem-3\",\"Division\":\"A\",\"Practical Batch\":11,\"Lacture Batch\":0.0}}'"
      ]
     },
     "execution_count": 133,
     "metadata": {},
     "output_type": "execute_result"
    }
   ],
   "source": [
    "a[a.duplicated(['E-mail'])].to_json(orient=\"index\")"
   ]
  },
  {
   "cell_type": "markdown",
   "id": "08ceb40f",
   "metadata": {},
   "source": [
    "get an array of index of email duplicates in the ds"
   ]
  },
  {
   "cell_type": "code",
   "execution_count": null,
   "id": "8f168c90",
   "metadata": {},
   "outputs": [],
   "source": [
    "a['E-mail'].tolist()"
   ]
  },
  {
   "cell_type": "markdown",
   "id": "8d994825",
   "metadata": {},
   "source": [
    "get a list of all the cells of a ds for qs "
   ]
  },
  {
   "cell_type": "code",
   "execution_count": null,
   "id": "363e3dec",
   "metadata": {},
   "outputs": [],
   "source": [
    "a.drop_duplicates()"
   ]
  },
  {
   "cell_type": "markdown",
   "id": "72900c85",
   "metadata": {},
   "source": [
    "drop the duplicate rows in the ds \n",
    "https://pandas.pydata.org/docs/reference/api/pandas.DataFrame.drop_duplicates.html#pandas-dataframe-drop-duplicates\n"
   ]
  },
  {
   "cell_type": "code",
   "execution_count": null,
   "id": "48945463",
   "metadata": {},
   "outputs": [],
   "source": [
    "a"
   ]
  },
  {
   "cell_type": "code",
   "execution_count": null,
   "id": "119e4dd6",
   "metadata": {},
   "outputs": [],
   "source": []
  }
 ],
 "metadata": {
  "kernelspec": {
   "display_name": "Python 3",
   "language": "python",
   "name": "python3"
  },
  "language_info": {
   "codemirror_mode": {
    "name": "ipython",
    "version": 3
   },
   "file_extension": ".py",
   "mimetype": "text/x-python",
   "name": "python",
   "nbconvert_exporter": "python",
   "pygments_lexer": "ipython3",
   "version": "3.8.5"
  }
 },
 "nbformat": 4,
 "nbformat_minor": 5
}
